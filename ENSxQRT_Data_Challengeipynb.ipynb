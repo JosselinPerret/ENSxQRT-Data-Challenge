{
  "nbformat": 4,
  "nbformat_minor": 0,
  "metadata": {
    "colab": {
      "provenance": [],
      "collapsed_sections": [
        "xCippnl-Ow04",
        "9IPjJYnZwyCT"
      ],
      "mount_file_id": "1diuVtp6_q6sDW5quZ-eOpRpBg3B_uWPk",
      "authorship_tag": "ABX9TyPe+whQjpo6GjKSk6oKWoev",
      "include_colab_link": true
    },
    "kernelspec": {
      "name": "python3",
      "display_name": "Python 3"
    },
    "language_info": {
      "name": "python"
    }
  },
  "cells": [
    {
      "cell_type": "markdown",
      "metadata": {
        "id": "view-in-github",
        "colab_type": "text"
      },
      "source": [
        "<a href=\"https://colab.research.google.com/github/JosselinPerret/ENSxQRT-Data-Challenge/blob/main/ENSxQRT_Data_Challengeipynb.ipynb\" target=\"_parent\"><img src=\"https://colab.research.google.com/assets/colab-badge.svg\" alt=\"Open In Colab\"/></a>"
      ]
    },
    {
      "cell_type": "markdown",
      "metadata": {
        "id": "xCippnl-Ow04"
      },
      "source": [
        "<p align=\"center\">\n",
        "  <img src=\"https://upload.wikimedia.org/wikipedia/fr/8/86/Logo_CentraleSup%C3%A9lec.svg\" alt=\"Logo 1\" width=\"250\"/>\n",
        "  <img src=\"https://www.qube-rt.com/img/qrt.svg\" alt=\"Logo 2\" width=\"400\" style=\"margin: 20px;\"/>\n",
        "</p>\n",
        "\n",
        "# Data Challenge : Leukemia Risk Prediction\n"
      ]
    },
    {
      "cell_type": "markdown",
      "metadata": {
        "id": "z5WQLzO6Ow09"
      },
      "source": [
        "*GOAL OF THE CHALLENGE and WHY IT IS IMPORTANT:*\n",
        "\n",
        "The goal of the challenge is to **predict disease risk for patients with blood cancer**, in the context of specific subtypes of adult myeloid leukemias.\n",
        "\n",
        "The risk is measured through the **overall survival** of patients, i.e. the duration of survival from the diagnosis of the blood cancer to the time of death or last follow-up.\n",
        "\n",
        "Estimating the prognosis of patients is critical for an optimal clinical management.\n",
        "For exemple, patients with low risk-disease will be offered supportive care to improve blood counts and quality of life, while patients with high-risk disease will be considered for hematopoietic stem cell transplantion.\n",
        "\n",
        "The performance metric used in the challenge is the **IPCW-C-Index**."
      ]
    },
    {
      "cell_type": "markdown",
      "metadata": {
        "id": "Sb6vqFCKOw0_"
      },
      "source": [
        "*THE DATASETS*\n",
        "\n",
        "The **training set is made of 3,323 patients**.\n",
        "\n",
        "The **test set is made of 1,193 patients**.\n",
        "\n",
        "For each patient, you have acces to CLINICAL data and MOLECULAR data.\n",
        "\n",
        "The details of the data are as follows:"
      ]
    },
    {
      "cell_type": "markdown",
      "metadata": {
        "id": "tKFAVSdQOw0_"
      },
      "source": [
        "- OUTCOME:\n",
        "  * OS_YEARS = Overall survival time in years\n",
        "  * OS_STATUS = 1 (death) , 0 (alive at the last follow-up)"
      ]
    },
    {
      "cell_type": "markdown",
      "metadata": {
        "id": "bF87fGqYOw1A"
      },
      "source": [
        "- CLINICAL DATA, with one line per patient:\n",
        "  \n",
        "  * ID = unique identifier per patient\n",
        "  * CENTER = clinical center\n",
        "  * BM_BLAST = Bone marrow blasts in % (blasts are abnormal blood cells)\n",
        "  * WBC = White Blood Cell count in Giga/L\n",
        "  * ANC = Absolute Neutrophil count in Giga/L\n",
        "  * MONOCYTES = Monocyte count in Giga/L\n",
        "  * HB = Hemoglobin in g/dL\n",
        "  * PLT = Platelets coutn in Giga/L\n",
        "  * CYTOGENETICS = A description of the karyotype observed in the blood cells of the patients, measured by a cytogeneticist. Cytogenetics is the science of chromosomes. A karyotype is performed from the blood tumoral cells. The convention for notation is ISCN (https://en.wikipedia.org/wiki/International_System_for_Human_Cytogenomic_Nomenclature). Cytogenetic notation are: https://en.wikipedia.org/wiki/Cytogenetic_notation. Note that a karyotype can be normal or abnornal. The notation 46,XX denotes a normal karyotype in females (23 pairs of chromosomes including 2 chromosomes X) and 46,XY in males (23 pairs of chromosomes inclusing 1 chromosme X and 1 chromsome Y). A common abnormality in the blood cancerous cells might be for exemple a loss of chromosome 7 (monosomy 7, or -7), which is typically asssociated with higher risk disease"
      ]
    },
    {
      "cell_type": "markdown",
      "metadata": {
        "id": "JiqM90R1Ow1B"
      },
      "source": [
        "- GENE MOLECULAR DATA, with one line per patient per somatic mutation. Mutations are detected from the sequencing of the blood tumoral cells.\n",
        "We call somatic (= acquired) mutations the mutations that are found in the tumoral cells but not in other cells of the body.\n",
        "\n",
        "  * ID = unique identifier per patient\n",
        "  * CHR START END = position of the mutation on the human genome\n",
        "  * REF ALT = reference and alternate (=mutant) nucleotide\n",
        "  * GENE = the affected gene\n",
        "  * PROTEIN_CHANGE = the consequence of the mutation on the protei that is expressed by a given gene\n",
        "  * EFFECT = a broad categorization of the mutation consequences on a given gene.\n",
        "  * VAF = Variant Allele Fraction = it represents the **proportion** of cells with the deleterious mutations."
      ]
    },
    {
      "cell_type": "markdown",
      "source": [
        "# Dependencies"
      ],
      "metadata": {
        "id": "9IPjJYnZwyCT"
      }
    },
    {
      "cell_type": "code",
      "execution_count": null,
      "metadata": {
        "colab": {
          "base_uri": "https://localhost:8080/"
        },
        "id": "h2g2yn6hezE1",
        "outputId": "421b220d-ad7f-4b2e-8456-7ba213c1a2ad"
      },
      "outputs": [
        {
          "output_type": "stream",
          "name": "stdout",
          "text": [
            "Collecting scikit-survival\n",
            "  Downloading scikit_survival-0.25.0-cp312-cp312-manylinux2014_x86_64.manylinux_2_17_x86_64.whl.metadata (7.2 kB)\n",
            "Collecting ecos (from scikit-survival)\n",
            "  Downloading ecos-2.0.14-cp312-cp312-manylinux_2_17_x86_64.manylinux2014_x86_64.whl.metadata (8.0 kB)\n",
            "Requirement already satisfied: joblib in /usr/local/lib/python3.12/dist-packages (from scikit-survival) (1.5.2)\n",
            "Requirement already satisfied: numexpr in /usr/local/lib/python3.12/dist-packages (from scikit-survival) (2.12.1)\n",
            "Requirement already satisfied: numpy in /usr/local/lib/python3.12/dist-packages (from scikit-survival) (2.0.2)\n",
            "Collecting osqp<1.0.0,>=0.6.3 (from scikit-survival)\n",
            "  Downloading osqp-0.6.7.post3-cp312-cp312-manylinux_2_5_x86_64.manylinux1_x86_64.manylinux_2_17_x86_64.manylinux2014_x86_64.whl.metadata (1.9 kB)\n",
            "Requirement already satisfied: pandas>=1.4.0 in /usr/local/lib/python3.12/dist-packages (from scikit-survival) (2.2.2)\n",
            "Requirement already satisfied: scipy>=1.3.2 in /usr/local/lib/python3.12/dist-packages (from scikit-survival) (1.16.2)\n",
            "Requirement already satisfied: scikit-learn<1.8,>=1.6.1 in /usr/local/lib/python3.12/dist-packages (from scikit-survival) (1.6.1)\n",
            "Collecting qdldl (from osqp<1.0.0,>=0.6.3->scikit-survival)\n",
            "  Downloading qdldl-0.1.7.post5-cp312-cp312-manylinux_2_17_x86_64.manylinux2014_x86_64.whl.metadata (1.7 kB)\n",
            "Requirement already satisfied: python-dateutil>=2.8.2 in /usr/local/lib/python3.12/dist-packages (from pandas>=1.4.0->scikit-survival) (2.9.0.post0)\n",
            "Requirement already satisfied: pytz>=2020.1 in /usr/local/lib/python3.12/dist-packages (from pandas>=1.4.0->scikit-survival) (2025.2)\n",
            "Requirement already satisfied: tzdata>=2022.7 in /usr/local/lib/python3.12/dist-packages (from pandas>=1.4.0->scikit-survival) (2025.2)\n",
            "Requirement already satisfied: threadpoolctl>=3.1.0 in /usr/local/lib/python3.12/dist-packages (from scikit-learn<1.8,>=1.6.1->scikit-survival) (3.6.0)\n",
            "Requirement already satisfied: six>=1.5 in /usr/local/lib/python3.12/dist-packages (from python-dateutil>=2.8.2->pandas>=1.4.0->scikit-survival) (1.17.0)\n",
            "Downloading scikit_survival-0.25.0-cp312-cp312-manylinux2014_x86_64.manylinux_2_17_x86_64.whl (3.9 MB)\n",
            "\u001b[2K   \u001b[90m━━━━━━━━━━━━━━━━━━━━━━━━━━━━━━━━━━━━━━━━\u001b[0m \u001b[32m3.9/3.9 MB\u001b[0m \u001b[31m59.7 MB/s\u001b[0m eta \u001b[36m0:00:00\u001b[0m\n",
            "\u001b[?25hDownloading osqp-0.6.7.post3-cp312-cp312-manylinux_2_5_x86_64.manylinux1_x86_64.manylinux_2_17_x86_64.manylinux2014_x86_64.whl (300 kB)\n",
            "\u001b[2K   \u001b[90m━━━━━━━━━━━━━━━━━━━━━━━━━━━━━━━━━━━━━━━━\u001b[0m \u001b[32m300.0/300.0 kB\u001b[0m \u001b[31m17.4 MB/s\u001b[0m eta \u001b[36m0:00:00\u001b[0m\n",
            "\u001b[?25hDownloading ecos-2.0.14-cp312-cp312-manylinux_2_17_x86_64.manylinux2014_x86_64.whl (222 kB)\n",
            "\u001b[2K   \u001b[90m━━━━━━━━━━━━━━━━━━━━━━━━━━━━━━━━━━━━━━━━\u001b[0m \u001b[32m222.1/222.1 kB\u001b[0m \u001b[31m12.7 MB/s\u001b[0m eta \u001b[36m0:00:00\u001b[0m\n",
            "\u001b[?25hDownloading qdldl-0.1.7.post5-cp312-cp312-manylinux_2_17_x86_64.manylinux2014_x86_64.whl (1.2 MB)\n",
            "\u001b[2K   \u001b[90m━━━━━━━━━━━━━━━━━━━━━━━━━━━━━━━━━━━━━━━━\u001b[0m \u001b[32m1.2/1.2 MB\u001b[0m \u001b[31m43.0 MB/s\u001b[0m eta \u001b[36m0:00:00\u001b[0m\n",
            "\u001b[?25hInstalling collected packages: qdldl, ecos, osqp, scikit-survival\n",
            "  Attempting uninstall: osqp\n",
            "    Found existing installation: osqp 1.0.4\n",
            "    Uninstalling osqp-1.0.4:\n",
            "      Successfully uninstalled osqp-1.0.4\n",
            "Successfully installed ecos-2.0.14 osqp-0.6.7.post3 qdldl-0.1.7.post5 scikit-survival-0.25.0\n"
          ]
        }
      ],
      "source": [
        "pip install scikit-survival"
      ]
    },
    {
      "cell_type": "code",
      "source": [
        "pip install xgboost"
      ],
      "metadata": {
        "colab": {
          "base_uri": "https://localhost:8080/"
        },
        "id": "slpqO_bOkI5X",
        "outputId": "ef0c71dd-9bc8-4e71-d5dd-f001a1f36ce4"
      },
      "execution_count": null,
      "outputs": [
        {
          "output_type": "stream",
          "name": "stdout",
          "text": [
            "Requirement already satisfied: xgboost in /usr/local/lib/python3.12/dist-packages (3.0.5)\n",
            "Requirement already satisfied: numpy in /usr/local/lib/python3.12/dist-packages (from xgboost) (2.0.2)\n",
            "Requirement already satisfied: nvidia-nccl-cu12 in /usr/local/lib/python3.12/dist-packages (from xgboost) (2.27.3)\n",
            "Requirement already satisfied: scipy in /usr/local/lib/python3.12/dist-packages (from xgboost) (1.16.2)\n"
          ]
        }
      ]
    },
    {
      "cell_type": "code",
      "execution_count": null,
      "metadata": {
        "id": "WqZpROzXewP_"
      },
      "outputs": [],
      "source": [
        "import pandas as pd\n",
        "import numpy as np\n",
        "from sksurv.util import Surv\n",
        "from sklearn.compose import ColumnTransformer\n",
        "from sklearn.pipeline import Pipeline\n",
        "from sklearn.preprocessing import OneHotEncoder, StandardScaler\n",
        "from sklearn.impute import SimpleImputer\n",
        "from sksurv.linear_model import CoxPHSurvivalAnalysis\n",
        "from sentence_transformers import SentenceTransformer\n",
        "import matplotlib.pyplot as plt\n",
        "from sklearn.tree import plot_tree\n",
        "from sklearn.model_selection import train_test_split\n",
        "from sksurv.ensemble import RandomSurvivalForest\n",
        "from sksurv.linear_model import CoxPHSurvivalAnalysis\n",
        "from sksurv.metrics import concordance_index_censored , concordance_index_ipcw\n",
        "from sklearn.impute import SimpleImputer\n",
        "import xgboost as xgb\n",
        "from sklearn.metrics import accuracy_score\n",
        "import re"
      ]
    },
    {
      "cell_type": "code",
      "execution_count": null,
      "metadata": {
        "colab": {
          "base_uri": "https://localhost:8080/"
        },
        "id": "uQLIzo8be4Fl",
        "outputId": "b75da796-cb09-4302-8e99-1399a2f8f7e7"
      },
      "outputs": [
        {
          "output_type": "stream",
          "name": "stdout",
          "text": [
            "Drive already mounted at /content/drive; to attempt to forcibly remount, call drive.mount(\"/content/drive\", force_remount=True).\n"
          ]
        }
      ],
      "source": [
        "from google.colab import drive\n",
        "drive.mount('/content/drive')"
      ]
    },
    {
      "cell_type": "markdown",
      "source": [
        "# Data processing & features engineering"
      ],
      "metadata": {
        "id": "zbleVCA0wss-"
      }
    },
    {
      "cell_type": "code",
      "execution_count": null,
      "metadata": {
        "id": "Uq35pRfxfPb2"
      },
      "outputs": [],
      "source": [
        "# Clinical Data\n",
        "clin_tr = pd.read_csv(\"/content/drive/My Drive/Colab Notebooks/qrt data challenge/X_train/clinical_train.csv\")\n",
        "clin_eval = pd.read_csv(\"/content/drive/My Drive/Colab Notebooks/qrt data challenge/X_test/clinical_test.csv\")\n",
        "\n",
        "# Molecular Data\n",
        "mol_tr = pd.read_csv(\"/content/drive/My Drive/Colab Notebooks/qrt data challenge/X_train/molecular_train.csv\")\n",
        "mol_eval = pd.read_csv(\"/content/drive/My Drive/Colab Notebooks/qrt data challenge/X_test/molecular_test.csv\")\n",
        "\n",
        "y_tr = pd.read_csv(\"/content/drive/My Drive/Colab Notebooks/qrt data challenge/target_train.csv\")\n",
        "# y_eval = pd.read_csv(\"/content/drive/My Drive/target_test.csv\")"
      ]
    },
    {
      "cell_type": "code",
      "source": [
        "numerical_cols = ['BM_BLAST', 'WBC', 'ANC', 'MONOCYTES', 'HB', 'PLT']\n",
        "\n",
        "for col in numerical_cols:\n",
        "    median_val = clin_tr[col].median()\n",
        "    clin_tr[col] = clin_tr[col].fillna(median_val)\n",
        "    clin_eval[col] = clin_eval[col].fillna(median_val)"
      ],
      "metadata": {
        "id": "biUYirUbxEjs"
      },
      "execution_count": null,
      "outputs": []
    },
    {
      "cell_type": "code",
      "source": [
        "def normalize_iscn(s: str) -> str:\n",
        "    if pd.isna(s): return \"\"\n",
        "    return re.sub(r\"\\s+\", \"\", s.upper())\n",
        "\n",
        "# convenience helpers\n",
        "def has(pattern, s):\n",
        "    return bool(re.search(pattern, s))\n",
        "\n",
        "def any_has(patterns, s):\n",
        "    return any(has(p, s) for p in patterns)\n",
        "\n",
        "# core extractors\n",
        "RE_COUNT = re.compile(r\"^(\\d+),\")\n",
        "RE_SEX   = re.compile(r\"^(\\d+),(XX|XY)\")\n",
        "\n",
        "ADVERSE = {\n",
        "    \"minus5_or_del5q\":  r\"(^|[\\W])(-5|DEL\\(5Q\\))([\\W]|$)\",\n",
        "    \"minus7_or_del7q\":  r\"(^|[\\W])(-7|DEL\\(7Q\\))([\\W]|$)\",\n",
        "    \"inv3_or_t3_3\":     r\"(INV\\(3\\(Q21\\.3?Q26\\.2?\\)\\)|T\\(3;3\\)\\(Q21\\.3?;Q26\\.2?\\))|INV\\(3\\)|T\\(3;3\\)\",\n",
        "    \"t_6_9\":            r\"T\\(6;9\\)\",\n",
        "    \"t_v_11q23\":        r\"T\\([0-9XYV];11\\)|T\\(11;[0-9XYV]\\)|11Q23|KMT2A|MLL\",  # KMT2A(MLL)\n",
        "    \"t_9_22\":           r\"T\\(9;22\\)\",\n",
        "    \"abn17p_or_minus17\":r\"ABN\\(17P\\)|DEL\\(17P\\)|-17|TP53|17P\",  # abn17p often implies TP53 region loss\n",
        "    \"t_8_16\":           r\"T\\(8;16\\)\",\n",
        "    \"t_3q26_2_v\":       r\"T\\(3Q26\\.2;[0-9XYV]\\)|MECOM|EVI1\",\n",
        "}\n",
        "\n",
        "FAVORABLE = {\n",
        "    \"t_8_21\":           r\"T\\(8;21\\)\",\n",
        "    \"inv16_or_t16_16\":  r\"INV\\(16\\)|T\\(16;16\\)\",\n",
        "    \"t_15_17\":          r\"T\\(15;17\\)\",  # APL\n",
        "}\n",
        "\n",
        "INTERMEDIATE = {\n",
        "    \"t_9_11\":           r\"T\\(9;11\\)\",\n",
        "    \"plus8\":            r\"(\\+8)([\\W]|$)\",\n",
        "}\n",
        "\n",
        "def count_monosomies(s):\n",
        "    # count autosomal monosomies: -1..-22\n",
        "    return len(re.findall(r\"-(?:[1-9]|1[0-9]|2[0-2])([\\W]|$)\", s))\n",
        "\n",
        "def count_trisomies(s):\n",
        "    return len(re.findall(r\"\\+(?:[1-9]|1[0-9]|2[0-2])([\\W]|$)\", s))\n",
        "\n",
        "def count_structural(s):\n",
        "    return len(re.findall(r\"(DEL|DUP|DER|ADD|INS|INV|T)\\(\", s))\n",
        "\n",
        "def is_monosomal_karyotype(s):\n",
        "    autosomal_mono = count_monosomies(s)\n",
        "    has_struct = count_structural(s) > 0\n",
        "    return autosomal_mono >= 2 or (autosomal_mono >= 1 and has_struct)\n",
        "\n",
        "def is_complex_karyotype(s):\n",
        "    # VERY simple proxy: total abnormalities = trisomies + monosomies + structural\n",
        "    n = count_trisomies(s) + count_monosomies(s) + count_structural(s)\n",
        "    return n >= 3\n",
        "\n",
        "def parse_row(cell):\n",
        "    x = normalize_iscn(cell)\n",
        "    d = {}\n",
        "\n",
        "    # core\n",
        "    m = RE_COUNT.search(x)\n",
        "    d[\"chr_count\"] = int(m.group(1)) if m else None\n",
        "    m = RE_SEX.search(x)\n",
        "    d[\"sex_karyotype\"] = m.group(2) if m else None\n",
        "    d[\"is_normal\"] = int(x in (\"46,XX\", \"46,XY\") or bool(re.fullmatch(r\"46,(XX|XY)\\[\\d+\\]\", x)))\n",
        "\n",
        "    # ploidy\n",
        "    if d[\"chr_count\"] is None:\n",
        "        d[\"hypodiploid\"]=d[\"diploid\"]=d[\"hyperdiploid\"]=None\n",
        "    else:\n",
        "        d[\"hypodiploid\"] = int(d[\"chr_count\"] < 46)\n",
        "        d[\"diploid\"]     = int(d[\"chr_count\"] == 46)\n",
        "        d[\"hyperdiploid\"]= int(d[\"chr_count\"] > 46)\n",
        "\n",
        "    # counts\n",
        "    d[\"n_monosomies\"] = count_monosomies(x)\n",
        "    d[\"n_trisomies\"]  = count_trisomies(x)\n",
        "    d[\"n_structural\"] = count_structural(x)\n",
        "\n",
        "    # karyotype classes\n",
        "    d[\"complex_karyotype\"]  = int(is_complex_karyotype(x))\n",
        "    d[\"monosomal_karyotype\"]= int(is_monosomal_karyotype(x))\n",
        "\n",
        "    # recurrent lesions\n",
        "    for name, pat in {**ADVERSE, **FAVORABLE, **INTERMEDIATE}.items():\n",
        "        d[name] = int(has(pat, x))\n",
        "\n",
        "    # generic flags\n",
        "    d[\"plus8\"] = int(has(INTERMEDIATE[\"plus8\"], x))\n",
        "    d[\"failed_or_uninformative\"] = int(has(r\"FAILED|INSUFFICIENT|NOMETA|UNINFORM\", x))\n",
        "    d[\"clonal_count\"] = x.count(\"/\")+1 if \"/\" in x else 1\n",
        "\n",
        "    return d"
      ],
      "metadata": {
        "id": "3FSxZZj60Zsm"
      },
      "execution_count": null,
      "outputs": []
    },
    {
      "cell_type": "code",
      "source": [
        "features_tr = clin_tr[\"CYTOGENETICS\"].apply(parse_row).apply(pd.Series)\n",
        "features_eval = clin_eval[\"CYTOGENETICS\"].apply(parse_row).apply(pd.Series)\n",
        "\n",
        "X_tr = pd.concat([clin_tr.drop(columns=[\"CYTOGENETICS\"]), features_tr], axis=1)\n",
        "X_eval = pd.concat([clin_tr.drop(columns=[\"CYTOGENETICS\"]), features_eval], axis=1)"
      ],
      "metadata": {
        "id": "7qutScWS0oSn"
      },
      "execution_count": null,
      "outputs": []
    },
    {
      "cell_type": "code",
      "source": [
        "def build_genomic_features(gene_df: pd.DataFrame,\n",
        "                           min_patients: int = 10,\n",
        "                           min_pct: float = 0.02) -> pd.DataFrame:\n",
        "    df = gene_df.copy()\n",
        "\n",
        "    df[\"ID\"] = df[\"ID\"].astype(str)\n",
        "    df[\"GENE\"] = df[\"GENE\"].str.upper().str.strip()\n",
        "    df[\"EFFECT\"] = df[\"EFFECT\"].str.lower().str.replace(\" \", \"_\", regex=False)\n",
        "    df[\"VAF\"] = pd.to_numeric(df[\"VAF\"], errors=\"coerce\")\n",
        "\n",
        "    agg_gene = (df.groupby([\"ID\",\"GENE\"])\n",
        "                  .agg(\n",
        "                      has_variant=(\"GENE\",\"size\"),\n",
        "                      max_vaf=(\"VAF\",\"max\"),\n",
        "                      mean_vaf=(\"VAF\",\"mean\"), # Add mean VAF calculation\n",
        "                      any_trunc=(\"EFFECT\", lambda s: int(s.str.contains(r\"frameshift|stop_gained|stop_lost|splice\").any())),\n",
        "                      any_missense=(\"EFFECT\", lambda s: int(s.str.contains(r\"missense|non_synonymous\").any())),\n",
        "                  )\n",
        "                  .reset_index())\n",
        "    agg_gene[\"has_variant\"] = (agg_gene[\"has_variant\"] > 0).astype(int)\n",
        "\n",
        "    mat_presence = (agg_gene.pivot(index=\"ID\", columns=\"GENE\", values=\"has_variant\")\n",
        "                           .fillna(0).astype(int))\n",
        "    mat_presence.columns = [f\"mut_{g}\" for g in mat_presence.columns]\n",
        "\n",
        "    mat_vaf_max = agg_gene.pivot(index=\"ID\", columns=\"GENE\", values=\"max_vaf\")\n",
        "    mat_vaf_max.columns = [f\"vaf_{g}_max\" for g in mat_vaf_max.columns]\n",
        "\n",
        "    mat_vaf_mean = agg_gene.pivot(index=\"ID\", columns=\"GENE\", values=\"mean_vaf\") # Pivot for mean VAF\n",
        "    mat_vaf_mean.columns = [f\"vaf_{g}_mean\" for g in mat_vaf_mean.columns] # Rename columns for mean VAF\n",
        "\n",
        "\n",
        "    per_patient = (df.groupby(\"ID\")\n",
        "                     .agg(\n",
        "                         n_mut_total=(\"GENE\",\"size\"),\n",
        "                         n_genes_mutated=(\"GENE\", pd.Series.nunique),\n",
        "                         median_vaf=(\"VAF\",\"median\"),\n",
        "                         max_vaf=(\"VAF\",\"max\"),\n",
        "                         n_truncating=(\"EFFECT\", lambda s: int(s.str.contains(r\"frameshift|stop_gained|stop_lost|splice\").sum())),\n",
        "                         n_missense=(\"EFFECT\", lambda s: int(s.str.contains(r\"missense|non_synonymous\").sum())),\n",
        "                     ))\n",
        "\n",
        "    freq = mat_presence.sum().sort_values(ascending=False)\n",
        "    thresh = max(min_patients, int(np.ceil(min_pct * mat_presence.shape[0])))\n",
        "    keep_mut_cols = freq[freq >= thresh].index.tolist()\n",
        "\n",
        "    keep_genes = [c.replace(\"mut_\", \"\") for c in keep_mut_cols]\n",
        "    keep_vaf_max_cols = [f\"vaf_{g}_max\" for g in keep_genes if f\"vaf_{g}_max\" in mat_vaf_max.columns]\n",
        "    keep_vaf_mean_cols = [f\"vaf_{g}_mean\" for g in keep_genes if f\"vaf_{g}_mean\" in mat_vaf_mean.columns] # Columns to keep for mean VAF\n",
        "\n",
        "    genomic = per_patient.join([mat_presence[keep_mut_cols], mat_vaf_max[keep_vaf_max_cols], mat_vaf_mean[keep_vaf_mean_cols]], how=\"left\") # Join with mean VAF columns\n",
        "\n",
        "\n",
        "    for c in keep_mut_cols:\n",
        "        genomic[c] = genomic[c].fillna(0).astype(int)\n",
        "\n",
        "    return genomic"
      ],
      "metadata": {
        "id": "CqL_faEM2VE1"
      },
      "execution_count": null,
      "outputs": []
    },
    {
      "cell_type": "code",
      "source": [
        "mol_tr_processed = build_genomic_features(mol_tr)\n",
        "mol_eval_processed = build_genomic_features(mol_eval)"
      ],
      "metadata": {
        "id": "jGeVPslC4NFE"
      },
      "execution_count": null,
      "outputs": []
    },
    {
      "cell_type": "code",
      "source": [
        "X_tr = X_tr.merge(mol_tr_processed,   how=\"left\", left_on=\"ID\", right_index=True, suffixes=(\"\", \"_mol\"))\n",
        "X_eval = X_eval.merge(mol_eval_processed, how=\"left\", left_on=\"ID\", right_index=True, suffixes=(\"\", \"_mol\"))"
      ],
      "metadata": {
        "id": "Suofomr44OYr"
      },
      "execution_count": null,
      "outputs": []
    },
    {
      "cell_type": "code",
      "source": [
        "X_tr[\"is_male\"]   = (X_tr[\"sex_karyotype\"] == \"XY\").astype(int)\n",
        "X_eval[\"is_male\"] = (X_eval[\"sex_karyotype\"] == \"XY\").astype(int)\n",
        "X_tr = X_tr.drop(columns=[\"sex_karyotype\", \"CENTER\"])\n",
        "X_eval = X_eval.drop(columns=[\"sex_karyotype\", \"CENTER\"])"
      ],
      "metadata": {
        "id": "EjXgnoro6Kvj"
      },
      "execution_count": null,
      "outputs": []
    },
    {
      "cell_type": "code",
      "source": [
        "def align_vaf_with_flags(df):\n",
        "    vaf_cols = [c for c in df.columns if c.startswith(\"vaf_\") and c.endswith(\"_max\")]\n",
        "    for v in vaf_cols:\n",
        "        gene = v.replace(\"vaf_\", \"\").replace(\"_max\", \"\")\n",
        "        m = f\"mut_{gene}\"\n",
        "        if m in df.columns:\n",
        "            df.loc[df[m] == 0, v] = 0.0\n",
        "            med = df.loc[df[m] == 1, v].median()\n",
        "            df[v] = df[v].fillna(med if pd.notna(med) else 0.0)\n",
        "        else:\n",
        "            df[v] = df[v].fillna(0.0)\n",
        "    return df"
      ],
      "metadata": {
        "id": "PIFHzaqx6boG"
      },
      "execution_count": null,
      "outputs": []
    },
    {
      "cell_type": "code",
      "source": [
        "X_tr  = align_vaf_with_flags(X_tr)\n",
        "X_eval = align_vaf_with_flags(X_eval)"
      ],
      "metadata": {
        "id": "zqxxy9bd6x22"
      },
      "execution_count": null,
      "outputs": []
    },
    {
      "cell_type": "code",
      "source": [
        "train_cols = X_tr.columns.tolist()\n",
        "val_cols = X_eval.columns.tolist()\n",
        "\n",
        "missing_in_val = list(set(train_cols) - set(val_cols))\n",
        "for col in missing_in_val:\n",
        "    X_eval[col] = 0\n",
        "\n",
        "missing_in_train = list(set(val_cols) - set(train_cols))\n",
        "for col in missing_in_train:\n",
        "    X_tr[col] = 0\n",
        "\n",
        "X_eval = X_eval[train_cols]"
      ],
      "metadata": {
        "id": "7ZZp08489cwc"
      },
      "execution_count": null,
      "outputs": []
    },
    {
      "cell_type": "markdown",
      "source": [
        "# Model training"
      ],
      "metadata": {
        "id": "MGT8ihyL62yF"
      }
    },
    {
      "cell_type": "code",
      "source": [
        " random_state = 42"
      ],
      "metadata": {
        "id": "rPLnWhJg8GLi"
      },
      "execution_count": null,
      "outputs": []
    },
    {
      "cell_type": "code",
      "source": [
        "train_merged = pd.merge(X_tr, y_tr, on='ID', how='left')\n",
        "train_merged_cleaned = train_merged.dropna(subset=['OS_STATUS', 'OS_YEARS'])\n",
        "\n",
        "X = train_merged_cleaned.drop(['ID', 'OS_YEARS', 'OS_STATUS'], axis=1)\n",
        "y = Surv.from_dataframe(\"OS_STATUS\", \"OS_YEARS\", train_merged_cleaned)"
      ],
      "metadata": {
        "id": "dcN2bAFg969x"
      },
      "execution_count": null,
      "outputs": []
    },
    {
      "cell_type": "code",
      "source": [
        "X_train, X_val, y_train, y_val = train_test_split(X, y, test_size=0.2, random_state=random_state)"
      ],
      "metadata": {
        "id": "UbYWl6A79pBb"
      },
      "execution_count": null,
      "outputs": []
    },
    {
      "cell_type": "code",
      "source": [
        "rsf = RandomSurvivalForest(\n",
        "    n_estimators=200, min_samples_split=2, min_samples_leaf=15, n_jobs=-1, random_state=random_state\n",
        ")"
      ],
      "metadata": {
        "id": "hP4NoAVr9b8q"
      },
      "execution_count": null,
      "outputs": []
    },
    {
      "cell_type": "code",
      "source": [
        "rsf.fit(X_train, y_train)"
      ],
      "metadata": {
        "colab": {
          "base_uri": "https://localhost:8080/"
        },
        "id": "yuuON9Yj9ne-",
        "outputId": "7fb83851-4738-4842-9095-68c574520ab3"
      },
      "execution_count": null,
      "outputs": [
        {
          "output_type": "execute_result",
          "data": {
            "text/plain": [
              "RandomSurvivalForest(min_samples_leaf=15, min_samples_split=2, n_estimators=200,\n",
              "                     n_jobs=-1, random_state=42)"
            ],
            "text/html": [
              "<style>#sk-container-id-4 {\n",
              "  /* Definition of color scheme common for light and dark mode */\n",
              "  --sklearn-color-text: #000;\n",
              "  --sklearn-color-text-muted: #666;\n",
              "  --sklearn-color-line: gray;\n",
              "  /* Definition of color scheme for unfitted estimators */\n",
              "  --sklearn-color-unfitted-level-0: #fff5e6;\n",
              "  --sklearn-color-unfitted-level-1: #f6e4d2;\n",
              "  --sklearn-color-unfitted-level-2: #ffe0b3;\n",
              "  --sklearn-color-unfitted-level-3: chocolate;\n",
              "  /* Definition of color scheme for fitted estimators */\n",
              "  --sklearn-color-fitted-level-0: #f0f8ff;\n",
              "  --sklearn-color-fitted-level-1: #d4ebff;\n",
              "  --sklearn-color-fitted-level-2: #b3dbfd;\n",
              "  --sklearn-color-fitted-level-3: cornflowerblue;\n",
              "\n",
              "  /* Specific color for light theme */\n",
              "  --sklearn-color-text-on-default-background: var(--sg-text-color, var(--theme-code-foreground, var(--jp-content-font-color1, black)));\n",
              "  --sklearn-color-background: var(--sg-background-color, var(--theme-background, var(--jp-layout-color0, white)));\n",
              "  --sklearn-color-border-box: var(--sg-text-color, var(--theme-code-foreground, var(--jp-content-font-color1, black)));\n",
              "  --sklearn-color-icon: #696969;\n",
              "\n",
              "  @media (prefers-color-scheme: dark) {\n",
              "    /* Redefinition of color scheme for dark theme */\n",
              "    --sklearn-color-text-on-default-background: var(--sg-text-color, var(--theme-code-foreground, var(--jp-content-font-color1, white)));\n",
              "    --sklearn-color-background: var(--sg-background-color, var(--theme-background, var(--jp-layout-color0, #111)));\n",
              "    --sklearn-color-border-box: var(--sg-text-color, var(--theme-code-foreground, var(--jp-content-font-color1, white)));\n",
              "    --sklearn-color-icon: #878787;\n",
              "  }\n",
              "}\n",
              "\n",
              "#sk-container-id-4 {\n",
              "  color: var(--sklearn-color-text);\n",
              "}\n",
              "\n",
              "#sk-container-id-4 pre {\n",
              "  padding: 0;\n",
              "}\n",
              "\n",
              "#sk-container-id-4 input.sk-hidden--visually {\n",
              "  border: 0;\n",
              "  clip: rect(1px 1px 1px 1px);\n",
              "  clip: rect(1px, 1px, 1px, 1px);\n",
              "  height: 1px;\n",
              "  margin: -1px;\n",
              "  overflow: hidden;\n",
              "  padding: 0;\n",
              "  position: absolute;\n",
              "  width: 1px;\n",
              "}\n",
              "\n",
              "#sk-container-id-4 div.sk-dashed-wrapped {\n",
              "  border: 1px dashed var(--sklearn-color-line);\n",
              "  margin: 0 0.4em 0.5em 0.4em;\n",
              "  box-sizing: border-box;\n",
              "  padding-bottom: 0.4em;\n",
              "  background-color: var(--sklearn-color-background);\n",
              "}\n",
              "\n",
              "#sk-container-id-4 div.sk-container {\n",
              "  /* jupyter's `normalize.less` sets `[hidden] { display: none; }`\n",
              "     but bootstrap.min.css set `[hidden] { display: none !important; }`\n",
              "     so we also need the `!important` here to be able to override the\n",
              "     default hidden behavior on the sphinx rendered scikit-learn.org.\n",
              "     See: https://github.com/scikit-learn/scikit-learn/issues/21755 */\n",
              "  display: inline-block !important;\n",
              "  position: relative;\n",
              "}\n",
              "\n",
              "#sk-container-id-4 div.sk-text-repr-fallback {\n",
              "  display: none;\n",
              "}\n",
              "\n",
              "div.sk-parallel-item,\n",
              "div.sk-serial,\n",
              "div.sk-item {\n",
              "  /* draw centered vertical line to link estimators */\n",
              "  background-image: linear-gradient(var(--sklearn-color-text-on-default-background), var(--sklearn-color-text-on-default-background));\n",
              "  background-size: 2px 100%;\n",
              "  background-repeat: no-repeat;\n",
              "  background-position: center center;\n",
              "}\n",
              "\n",
              "/* Parallel-specific style estimator block */\n",
              "\n",
              "#sk-container-id-4 div.sk-parallel-item::after {\n",
              "  content: \"\";\n",
              "  width: 100%;\n",
              "  border-bottom: 2px solid var(--sklearn-color-text-on-default-background);\n",
              "  flex-grow: 1;\n",
              "}\n",
              "\n",
              "#sk-container-id-4 div.sk-parallel {\n",
              "  display: flex;\n",
              "  align-items: stretch;\n",
              "  justify-content: center;\n",
              "  background-color: var(--sklearn-color-background);\n",
              "  position: relative;\n",
              "}\n",
              "\n",
              "#sk-container-id-4 div.sk-parallel-item {\n",
              "  display: flex;\n",
              "  flex-direction: column;\n",
              "}\n",
              "\n",
              "#sk-container-id-4 div.sk-parallel-item:first-child::after {\n",
              "  align-self: flex-end;\n",
              "  width: 50%;\n",
              "}\n",
              "\n",
              "#sk-container-id-4 div.sk-parallel-item:last-child::after {\n",
              "  align-self: flex-start;\n",
              "  width: 50%;\n",
              "}\n",
              "\n",
              "#sk-container-id-4 div.sk-parallel-item:only-child::after {\n",
              "  width: 0;\n",
              "}\n",
              "\n",
              "/* Serial-specific style estimator block */\n",
              "\n",
              "#sk-container-id-4 div.sk-serial {\n",
              "  display: flex;\n",
              "  flex-direction: column;\n",
              "  align-items: center;\n",
              "  background-color: var(--sklearn-color-background);\n",
              "  padding-right: 1em;\n",
              "  padding-left: 1em;\n",
              "}\n",
              "\n",
              "\n",
              "/* Toggleable style: style used for estimator/Pipeline/ColumnTransformer box that is\n",
              "clickable and can be expanded/collapsed.\n",
              "- Pipeline and ColumnTransformer use this feature and define the default style\n",
              "- Estimators will overwrite some part of the style using the `sk-estimator` class\n",
              "*/\n",
              "\n",
              "/* Pipeline and ColumnTransformer style (default) */\n",
              "\n",
              "#sk-container-id-4 div.sk-toggleable {\n",
              "  /* Default theme specific background. It is overwritten whether we have a\n",
              "  specific estimator or a Pipeline/ColumnTransformer */\n",
              "  background-color: var(--sklearn-color-background);\n",
              "}\n",
              "\n",
              "/* Toggleable label */\n",
              "#sk-container-id-4 label.sk-toggleable__label {\n",
              "  cursor: pointer;\n",
              "  display: flex;\n",
              "  width: 100%;\n",
              "  margin-bottom: 0;\n",
              "  padding: 0.5em;\n",
              "  box-sizing: border-box;\n",
              "  text-align: center;\n",
              "  align-items: start;\n",
              "  justify-content: space-between;\n",
              "  gap: 0.5em;\n",
              "}\n",
              "\n",
              "#sk-container-id-4 label.sk-toggleable__label .caption {\n",
              "  font-size: 0.6rem;\n",
              "  font-weight: lighter;\n",
              "  color: var(--sklearn-color-text-muted);\n",
              "}\n",
              "\n",
              "#sk-container-id-4 label.sk-toggleable__label-arrow:before {\n",
              "  /* Arrow on the left of the label */\n",
              "  content: \"▸\";\n",
              "  float: left;\n",
              "  margin-right: 0.25em;\n",
              "  color: var(--sklearn-color-icon);\n",
              "}\n",
              "\n",
              "#sk-container-id-4 label.sk-toggleable__label-arrow:hover:before {\n",
              "  color: var(--sklearn-color-text);\n",
              "}\n",
              "\n",
              "/* Toggleable content - dropdown */\n",
              "\n",
              "#sk-container-id-4 div.sk-toggleable__content {\n",
              "  max-height: 0;\n",
              "  max-width: 0;\n",
              "  overflow: hidden;\n",
              "  text-align: left;\n",
              "  /* unfitted */\n",
              "  background-color: var(--sklearn-color-unfitted-level-0);\n",
              "}\n",
              "\n",
              "#sk-container-id-4 div.sk-toggleable__content.fitted {\n",
              "  /* fitted */\n",
              "  background-color: var(--sklearn-color-fitted-level-0);\n",
              "}\n",
              "\n",
              "#sk-container-id-4 div.sk-toggleable__content pre {\n",
              "  margin: 0.2em;\n",
              "  border-radius: 0.25em;\n",
              "  color: var(--sklearn-color-text);\n",
              "  /* unfitted */\n",
              "  background-color: var(--sklearn-color-unfitted-level-0);\n",
              "}\n",
              "\n",
              "#sk-container-id-4 div.sk-toggleable__content.fitted pre {\n",
              "  /* unfitted */\n",
              "  background-color: var(--sklearn-color-fitted-level-0);\n",
              "}\n",
              "\n",
              "#sk-container-id-4 input.sk-toggleable__control:checked~div.sk-toggleable__content {\n",
              "  /* Expand drop-down */\n",
              "  max-height: 200px;\n",
              "  max-width: 100%;\n",
              "  overflow: auto;\n",
              "}\n",
              "\n",
              "#sk-container-id-4 input.sk-toggleable__control:checked~label.sk-toggleable__label-arrow:before {\n",
              "  content: \"▾\";\n",
              "}\n",
              "\n",
              "/* Pipeline/ColumnTransformer-specific style */\n",
              "\n",
              "#sk-container-id-4 div.sk-label input.sk-toggleable__control:checked~label.sk-toggleable__label {\n",
              "  color: var(--sklearn-color-text);\n",
              "  background-color: var(--sklearn-color-unfitted-level-2);\n",
              "}\n",
              "\n",
              "#sk-container-id-4 div.sk-label.fitted input.sk-toggleable__control:checked~label.sk-toggleable__label {\n",
              "  background-color: var(--sklearn-color-fitted-level-2);\n",
              "}\n",
              "\n",
              "/* Estimator-specific style */\n",
              "\n",
              "/* Colorize estimator box */\n",
              "#sk-container-id-4 div.sk-estimator input.sk-toggleable__control:checked~label.sk-toggleable__label {\n",
              "  /* unfitted */\n",
              "  background-color: var(--sklearn-color-unfitted-level-2);\n",
              "}\n",
              "\n",
              "#sk-container-id-4 div.sk-estimator.fitted input.sk-toggleable__control:checked~label.sk-toggleable__label {\n",
              "  /* fitted */\n",
              "  background-color: var(--sklearn-color-fitted-level-2);\n",
              "}\n",
              "\n",
              "#sk-container-id-4 div.sk-label label.sk-toggleable__label,\n",
              "#sk-container-id-4 div.sk-label label {\n",
              "  /* The background is the default theme color */\n",
              "  color: var(--sklearn-color-text-on-default-background);\n",
              "}\n",
              "\n",
              "/* On hover, darken the color of the background */\n",
              "#sk-container-id-4 div.sk-label:hover label.sk-toggleable__label {\n",
              "  color: var(--sklearn-color-text);\n",
              "  background-color: var(--sklearn-color-unfitted-level-2);\n",
              "}\n",
              "\n",
              "/* Label box, darken color on hover, fitted */\n",
              "#sk-container-id-4 div.sk-label.fitted:hover label.sk-toggleable__label.fitted {\n",
              "  color: var(--sklearn-color-text);\n",
              "  background-color: var(--sklearn-color-fitted-level-2);\n",
              "}\n",
              "\n",
              "/* Estimator label */\n",
              "\n",
              "#sk-container-id-4 div.sk-label label {\n",
              "  font-family: monospace;\n",
              "  font-weight: bold;\n",
              "  display: inline-block;\n",
              "  line-height: 1.2em;\n",
              "}\n",
              "\n",
              "#sk-container-id-4 div.sk-label-container {\n",
              "  text-align: center;\n",
              "}\n",
              "\n",
              "/* Estimator-specific */\n",
              "#sk-container-id-4 div.sk-estimator {\n",
              "  font-family: monospace;\n",
              "  border: 1px dotted var(--sklearn-color-border-box);\n",
              "  border-radius: 0.25em;\n",
              "  box-sizing: border-box;\n",
              "  margin-bottom: 0.5em;\n",
              "  /* unfitted */\n",
              "  background-color: var(--sklearn-color-unfitted-level-0);\n",
              "}\n",
              "\n",
              "#sk-container-id-4 div.sk-estimator.fitted {\n",
              "  /* fitted */\n",
              "  background-color: var(--sklearn-color-fitted-level-0);\n",
              "}\n",
              "\n",
              "/* on hover */\n",
              "#sk-container-id-4 div.sk-estimator:hover {\n",
              "  /* unfitted */\n",
              "  background-color: var(--sklearn-color-unfitted-level-2);\n",
              "}\n",
              "\n",
              "#sk-container-id-4 div.sk-estimator.fitted:hover {\n",
              "  /* fitted */\n",
              "  background-color: var(--sklearn-color-fitted-level-2);\n",
              "}\n",
              "\n",
              "/* Specification for estimator info (e.g. \"i\" and \"?\") */\n",
              "\n",
              "/* Common style for \"i\" and \"?\" */\n",
              "\n",
              ".sk-estimator-doc-link,\n",
              "a:link.sk-estimator-doc-link,\n",
              "a:visited.sk-estimator-doc-link {\n",
              "  float: right;\n",
              "  font-size: smaller;\n",
              "  line-height: 1em;\n",
              "  font-family: monospace;\n",
              "  background-color: var(--sklearn-color-background);\n",
              "  border-radius: 1em;\n",
              "  height: 1em;\n",
              "  width: 1em;\n",
              "  text-decoration: none !important;\n",
              "  margin-left: 0.5em;\n",
              "  text-align: center;\n",
              "  /* unfitted */\n",
              "  border: var(--sklearn-color-unfitted-level-1) 1pt solid;\n",
              "  color: var(--sklearn-color-unfitted-level-1);\n",
              "}\n",
              "\n",
              ".sk-estimator-doc-link.fitted,\n",
              "a:link.sk-estimator-doc-link.fitted,\n",
              "a:visited.sk-estimator-doc-link.fitted {\n",
              "  /* fitted */\n",
              "  border: var(--sklearn-color-fitted-level-1) 1pt solid;\n",
              "  color: var(--sklearn-color-fitted-level-1);\n",
              "}\n",
              "\n",
              "/* On hover */\n",
              "div.sk-estimator:hover .sk-estimator-doc-link:hover,\n",
              ".sk-estimator-doc-link:hover,\n",
              "div.sk-label-container:hover .sk-estimator-doc-link:hover,\n",
              ".sk-estimator-doc-link:hover {\n",
              "  /* unfitted */\n",
              "  background-color: var(--sklearn-color-unfitted-level-3);\n",
              "  color: var(--sklearn-color-background);\n",
              "  text-decoration: none;\n",
              "}\n",
              "\n",
              "div.sk-estimator.fitted:hover .sk-estimator-doc-link.fitted:hover,\n",
              ".sk-estimator-doc-link.fitted:hover,\n",
              "div.sk-label-container:hover .sk-estimator-doc-link.fitted:hover,\n",
              ".sk-estimator-doc-link.fitted:hover {\n",
              "  /* fitted */\n",
              "  background-color: var(--sklearn-color-fitted-level-3);\n",
              "  color: var(--sklearn-color-background);\n",
              "  text-decoration: none;\n",
              "}\n",
              "\n",
              "/* Span, style for the box shown on hovering the info icon */\n",
              ".sk-estimator-doc-link span {\n",
              "  display: none;\n",
              "  z-index: 9999;\n",
              "  position: relative;\n",
              "  font-weight: normal;\n",
              "  right: .2ex;\n",
              "  padding: .5ex;\n",
              "  margin: .5ex;\n",
              "  width: min-content;\n",
              "  min-width: 20ex;\n",
              "  max-width: 50ex;\n",
              "  color: var(--sklearn-color-text);\n",
              "  box-shadow: 2pt 2pt 4pt #999;\n",
              "  /* unfitted */\n",
              "  background: var(--sklearn-color-unfitted-level-0);\n",
              "  border: .5pt solid var(--sklearn-color-unfitted-level-3);\n",
              "}\n",
              "\n",
              ".sk-estimator-doc-link.fitted span {\n",
              "  /* fitted */\n",
              "  background: var(--sklearn-color-fitted-level-0);\n",
              "  border: var(--sklearn-color-fitted-level-3);\n",
              "}\n",
              "\n",
              ".sk-estimator-doc-link:hover span {\n",
              "  display: block;\n",
              "}\n",
              "\n",
              "/* \"?\"-specific style due to the `<a>` HTML tag */\n",
              "\n",
              "#sk-container-id-4 a.estimator_doc_link {\n",
              "  float: right;\n",
              "  font-size: 1rem;\n",
              "  line-height: 1em;\n",
              "  font-family: monospace;\n",
              "  background-color: var(--sklearn-color-background);\n",
              "  border-radius: 1rem;\n",
              "  height: 1rem;\n",
              "  width: 1rem;\n",
              "  text-decoration: none;\n",
              "  /* unfitted */\n",
              "  color: var(--sklearn-color-unfitted-level-1);\n",
              "  border: var(--sklearn-color-unfitted-level-1) 1pt solid;\n",
              "}\n",
              "\n",
              "#sk-container-id-4 a.estimator_doc_link.fitted {\n",
              "  /* fitted */\n",
              "  border: var(--sklearn-color-fitted-level-1) 1pt solid;\n",
              "  color: var(--sklearn-color-fitted-level-1);\n",
              "}\n",
              "\n",
              "/* On hover */\n",
              "#sk-container-id-4 a.estimator_doc_link:hover {\n",
              "  /* unfitted */\n",
              "  background-color: var(--sklearn-color-unfitted-level-3);\n",
              "  color: var(--sklearn-color-background);\n",
              "  text-decoration: none;\n",
              "}\n",
              "\n",
              "#sk-container-id-4 a.estimator_doc_link.fitted:hover {\n",
              "  /* fitted */\n",
              "  background-color: var(--sklearn-color-fitted-level-3);\n",
              "}\n",
              "</style><div id=\"sk-container-id-4\" class=\"sk-top-container\"><div class=\"sk-text-repr-fallback\"><pre>RandomSurvivalForest(min_samples_leaf=15, min_samples_split=2, n_estimators=200,\n",
              "                     n_jobs=-1, random_state=42)</pre><b>In a Jupyter environment, please rerun this cell to show the HTML representation or trust the notebook. <br />On GitHub, the HTML representation is unable to render, please try loading this page with nbviewer.org.</b></div><div class=\"sk-container\" hidden><div class=\"sk-item\"><div class=\"sk-estimator fitted sk-toggleable\"><input class=\"sk-toggleable__control sk-hidden--visually\" id=\"sk-estimator-id-4\" type=\"checkbox\" checked><label for=\"sk-estimator-id-4\" class=\"sk-toggleable__label fitted sk-toggleable__label-arrow\"><div><div>RandomSurvivalForest</div></div><div><span class=\"sk-estimator-doc-link fitted\">i<span>Fitted</span></span></div></label><div class=\"sk-toggleable__content fitted\"><pre>RandomSurvivalForest(min_samples_leaf=15, min_samples_split=2, n_estimators=200,\n",
              "                     n_jobs=-1, random_state=42)</pre></div> </div></div></div></div>"
            ]
          },
          "metadata": {},
          "execution_count": 62
        }
      ]
    },
    {
      "cell_type": "markdown",
      "source": [
        "# Model evaluation"
      ],
      "metadata": {
        "id": "NWe0pLSo-TRP"
      }
    },
    {
      "cell_type": "code",
      "source": [
        "eval_times = np.unique(y_val[\"OS_YEARS\"][y_val[\"OS_STATUS\"] == 1])\n",
        "c_index, concordant_pairs, discordant_pairs, tied_event_times, tied_risk_scores = concordance_index_ipcw(\n",
        "    y_train, y_val, rsf.predict(X_val), tau=eval_times[-1] if len(eval_times) > 0 else None\n",
        ")\n",
        "\n",
        "print(f\"IPCW-C-Index on the validation set: {c_index}\")"
      ],
      "metadata": {
        "colab": {
          "base_uri": "https://localhost:8080/"
        },
        "id": "shu32YYO-VFD",
        "outputId": "cb6c4c7c-9393-4439-def0-5406690a762c"
      },
      "execution_count": null,
      "outputs": [
        {
          "output_type": "stream",
          "name": "stdout",
          "text": [
            "IPCW-C-Index on the validation set: 0.6914321873252035\n"
          ]
        }
      ]
    },
    {
      "cell_type": "markdown",
      "source": [
        "# Submission file"
      ],
      "metadata": {
        "id": "mqloClUl-i8k"
      }
    },
    {
      "cell_type": "code",
      "source": [
        "X_eval.drop(columns=[\"ID\"], inplace=True)"
      ],
      "metadata": {
        "id": "OqIojF6Z_SiI"
      },
      "execution_count": null,
      "outputs": []
    },
    {
      "cell_type": "code",
      "metadata": {
        "id": "9151614b"
      },
      "source": [
        "mol_tr_processed = build_genomic_features(mol_tr)\n",
        "mol_eval_processed = build_genomic_features(mol_eval)"
      ],
      "execution_count": null,
      "outputs": []
    },
    {
      "cell_type": "code",
      "metadata": {
        "id": "4c6f47a9"
      },
      "source": [
        "train_cols = X_tr.columns.tolist()\n",
        "val_cols = X_eval.columns.tolist()\n",
        "\n",
        "missing_in_val = list(set(train_cols) - set(val_cols))\n",
        "for col in missing_in_val:\n",
        "    X_eval[col] = 0\n",
        "\n",
        "missing_in_train = list(set(val_cols) - set(train_cols))\n",
        "for col in missing_in_train:\n",
        "    X_tr[col] = 0\n",
        "\n",
        "X_eval = X_eval[train_cols]"
      ],
      "execution_count": null,
      "outputs": []
    },
    {
      "cell_type": "code",
      "metadata": {
        "id": "bd1ed22c"
      },
      "source": [
        "train_merged = pd.merge(X_tr, y_tr, on='ID', how='left')\n",
        "train_merged_cleaned = train_merged.dropna(subset=['OS_STATUS', 'OS_YEARS'])\n",
        "\n",
        "X = train_merged_cleaned.drop(['ID', 'OS_YEARS', 'OS_STATUS'], axis=1)\n",
        "y = Surv.from_dataframe(\"OS_STATUS\", \"OS_YEARS\", train_merged_cleaned)"
      ],
      "execution_count": null,
      "outputs": []
    },
    {
      "cell_type": "code",
      "metadata": {
        "colab": {
          "base_uri": "https://localhost:8080/"
        },
        "id": "143a081e",
        "outputId": "0bf5efdb-706c-47e8-b47d-8461d620c701"
      },
      "source": [
        "eval_times = np.unique(y_val[\"OS_YEARS\"][y_val[\"OS_STATUS\"] == 1])\n",
        "c_index, concordant_pairs, discordant_pairs, tied_event_times, tied_risk_scores = concordance_index_ipcw(\n",
        "    y_train, y_val, rsf.predict(X_val), tau=eval_times[-1] if len(eval_times) > 0 else None\n",
        ")\n",
        "\n",
        "print(f\"IPCW-C-Index on the validation set: {c_index}\")"
      ],
      "execution_count": null,
      "outputs": [
        {
          "output_type": "stream",
          "name": "stdout",
          "text": [
            "IPCW-C-Index on the validation set: 0.6914321873252035\n"
          ]
        }
      ]
    },
    {
      "cell_type": "code",
      "metadata": {
        "id": "87d7fb21"
      },
      "source": [
        "X_eval_aligned = X_eval.loc[clin_eval.index]\n",
        "X_eval_aligned.drop(columns=[\"ID\"], inplace=True)\n",
        "\n",
        "predictions_updated = rsf.predict(X_eval_aligned)\n",
        "submission_df_updated = pd.DataFrame({'ID': clin_eval['ID'], 'risk_score': predictions_updated})\n",
        "submission_df_updated.to_csv(\"submission_10.csv\", index=False)"
      ],
      "execution_count": null,
      "outputs": []
    }
  ]
}